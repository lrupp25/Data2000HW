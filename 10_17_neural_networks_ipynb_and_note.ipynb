{
  "cells": [
    {
      "cell_type": "markdown",
      "metadata": {
        "id": "view-in-github",
        "colab_type": "text"
      },
      "source": [
        "<a href=\"https://colab.research.google.com/github/lrupp25/Data2000HW/blob/main/10_17_neural_networks_ipynb_and_note.ipynb\" target=\"_parent\"><img src=\"https://colab.research.google.com/assets/colab-badge.svg\" alt=\"Open In Colab\"/></a>"
      ]
    },
    {
      "cell_type": "code",
      "execution_count": null,
      "id": "e4703bfd-eaff-46cf-a4b9-f3d85cd824aa",
      "metadata": {
        "id": "e4703bfd-eaff-46cf-a4b9-f3d85cd824aa",
        "outputId": "b406d09b-aeeb-4555-fba8-21e437ae199a",
        "colab": {
          "base_uri": "https://localhost:8080/",
          "height": 1000
        }
      },
      "outputs": [
        {
          "output_type": "stream",
          "name": "stdout",
          "text": [
            "Requirement already satisfied: numpy in /usr/local/lib/python3.10/dist-packages (1.23.5)\n",
            "Collecting numpy\n",
            "  Downloading numpy-1.26.1-cp310-cp310-manylinux_2_17_x86_64.manylinux2014_x86_64.whl (18.2 MB)\n",
            "\u001b[2K     \u001b[90m━━━━━━━━━━━━━━━━━━━━━━━━━━━━━━━━━━━━━━━━\u001b[0m \u001b[32m18.2/18.2 MB\u001b[0m \u001b[31m63.1 MB/s\u001b[0m eta \u001b[36m0:00:00\u001b[0m\n",
            "\u001b[?25hRequirement already satisfied: pandas in /usr/local/lib/python3.10/dist-packages (1.5.3)\n",
            "Collecting pandas\n",
            "  Downloading pandas-2.1.1-cp310-cp310-manylinux_2_17_x86_64.manylinux2014_x86_64.whl (12.3 MB)\n",
            "\u001b[2K     \u001b[90m━━━━━━━━━━━━━━━━━━━━━━━━━━━━━━━━━━━━━━━━\u001b[0m \u001b[32m12.3/12.3 MB\u001b[0m \u001b[31m75.1 MB/s\u001b[0m eta \u001b[36m0:00:00\u001b[0m\n",
            "\u001b[?25hRequirement already satisfied: matplotlib in /usr/local/lib/python3.10/dist-packages (3.7.1)\n",
            "Collecting matplotlib\n",
            "  Downloading matplotlib-3.8.0-cp310-cp310-manylinux_2_17_x86_64.manylinux2014_x86_64.whl (11.6 MB)\n",
            "\u001b[2K     \u001b[90m━━━━━━━━━━━━━━━━━━━━━━━━━━━━━━━━━━━━━━━━\u001b[0m \u001b[32m11.6/11.6 MB\u001b[0m \u001b[31m66.4 MB/s\u001b[0m eta \u001b[36m0:00:00\u001b[0m\n",
            "\u001b[?25hRequirement already satisfied: seaborn in /usr/local/lib/python3.10/dist-packages (0.12.2)\n",
            "Collecting seaborn\n",
            "  Downloading seaborn-0.13.0-py3-none-any.whl (294 kB)\n",
            "\u001b[2K     \u001b[90m━━━━━━━━━━━━━━━━━━━━━━━━━━━━━━━━━━━━━━━━\u001b[0m \u001b[32m294.6/294.6 kB\u001b[0m \u001b[31m18.6 MB/s\u001b[0m eta \u001b[36m0:00:00\u001b[0m\n",
            "\u001b[?25hRequirement already satisfied: tensorflow in /usr/local/lib/python3.10/dist-packages (2.13.0)\n",
            "Collecting tensorflow\n",
            "  Downloading tensorflow-2.14.0-cp310-cp310-manylinux_2_17_x86_64.manylinux2014_x86_64.whl (489.8 MB)\n",
            "\u001b[2K     \u001b[90m━━━━━━━━━━━━━━━━━━━━━━━━━━━━━━━━━━━━━━━━\u001b[0m \u001b[32m489.8/489.8 MB\u001b[0m \u001b[31m2.4 MB/s\u001b[0m eta \u001b[36m0:00:00\u001b[0m\n",
            "\u001b[?25hRequirement already satisfied: pydot in /usr/local/lib/python3.10/dist-packages (1.4.2)\n",
            "Requirement already satisfied: python-dateutil>=2.8.2 in /usr/local/lib/python3.10/dist-packages (from pandas) (2.8.2)\n",
            "Requirement already satisfied: pytz>=2020.1 in /usr/local/lib/python3.10/dist-packages (from pandas) (2023.3.post1)\n",
            "Collecting tzdata>=2022.1 (from pandas)\n",
            "  Downloading tzdata-2023.3-py2.py3-none-any.whl (341 kB)\n",
            "\u001b[2K     \u001b[90m━━━━━━━━━━━━━━━━━━━━━━━━━━━━━━━━━━━━━━━━\u001b[0m \u001b[32m341.8/341.8 kB\u001b[0m \u001b[31m18.2 MB/s\u001b[0m eta \u001b[36m0:00:00\u001b[0m\n",
            "\u001b[?25hRequirement already satisfied: contourpy>=1.0.1 in /usr/local/lib/python3.10/dist-packages (from matplotlib) (1.1.1)\n",
            "Requirement already satisfied: cycler>=0.10 in /usr/local/lib/python3.10/dist-packages (from matplotlib) (0.12.1)\n",
            "Requirement already satisfied: fonttools>=4.22.0 in /usr/local/lib/python3.10/dist-packages (from matplotlib) (4.43.1)\n",
            "Requirement already satisfied: kiwisolver>=1.0.1 in /usr/local/lib/python3.10/dist-packages (from matplotlib) (1.4.5)\n",
            "Requirement already satisfied: packaging>=20.0 in /usr/local/lib/python3.10/dist-packages (from matplotlib) (23.2)\n",
            "Requirement already satisfied: pillow>=6.2.0 in /usr/local/lib/python3.10/dist-packages (from matplotlib) (9.4.0)\n",
            "Requirement already satisfied: pyparsing>=2.3.1 in /usr/local/lib/python3.10/dist-packages (from matplotlib) (3.1.1)\n",
            "Requirement already satisfied: absl-py>=1.0.0 in /usr/local/lib/python3.10/dist-packages (from tensorflow) (1.4.0)\n",
            "Requirement already satisfied: astunparse>=1.6.0 in /usr/local/lib/python3.10/dist-packages (from tensorflow) (1.6.3)\n",
            "Requirement already satisfied: flatbuffers>=23.5.26 in /usr/local/lib/python3.10/dist-packages (from tensorflow) (23.5.26)\n",
            "Requirement already satisfied: gast!=0.5.0,!=0.5.1,!=0.5.2,>=0.2.1 in /usr/local/lib/python3.10/dist-packages (from tensorflow) (0.4.0)\n",
            "Requirement already satisfied: google-pasta>=0.1.1 in /usr/local/lib/python3.10/dist-packages (from tensorflow) (0.2.0)\n",
            "Requirement already satisfied: h5py>=2.9.0 in /usr/local/lib/python3.10/dist-packages (from tensorflow) (3.9.0)\n",
            "Requirement already satisfied: libclang>=13.0.0 in /usr/local/lib/python3.10/dist-packages (from tensorflow) (16.0.6)\n",
            "Collecting ml-dtypes==0.2.0 (from tensorflow)\n",
            "  Downloading ml_dtypes-0.2.0-cp310-cp310-manylinux_2_17_x86_64.manylinux2014_x86_64.whl (1.0 MB)\n",
            "\u001b[2K     \u001b[90m━━━━━━━━━━━━━━━━━━━━━━━━━━━━━━━━━━━━━━━━\u001b[0m \u001b[32m1.0/1.0 MB\u001b[0m \u001b[31m27.5 MB/s\u001b[0m eta \u001b[36m0:00:00\u001b[0m\n",
            "\u001b[?25hRequirement already satisfied: opt-einsum>=2.3.2 in /usr/local/lib/python3.10/dist-packages (from tensorflow) (3.3.0)\n",
            "Requirement already satisfied: protobuf!=4.21.0,!=4.21.1,!=4.21.2,!=4.21.3,!=4.21.4,!=4.21.5,<5.0.0dev,>=3.20.3 in /usr/local/lib/python3.10/dist-packages (from tensorflow) (3.20.3)\n",
            "Requirement already satisfied: setuptools in /usr/local/lib/python3.10/dist-packages (from tensorflow) (67.7.2)\n",
            "Requirement already satisfied: six>=1.12.0 in /usr/local/lib/python3.10/dist-packages (from tensorflow) (1.16.0)\n",
            "Requirement already satisfied: termcolor>=1.1.0 in /usr/local/lib/python3.10/dist-packages (from tensorflow) (2.3.0)\n",
            "Requirement already satisfied: typing-extensions>=3.6.6 in /usr/local/lib/python3.10/dist-packages (from tensorflow) (4.5.0)\n",
            "Collecting wrapt<1.15,>=1.11.0 (from tensorflow)\n",
            "  Downloading wrapt-1.14.1-cp310-cp310-manylinux_2_5_x86_64.manylinux1_x86_64.manylinux_2_17_x86_64.manylinux2014_x86_64.whl (77 kB)\n",
            "\u001b[2K     \u001b[90m━━━━━━━━━━━━━━━━━━━━━━━━━━━━━━━━━━━━━━━━\u001b[0m \u001b[32m77.9/77.9 kB\u001b[0m \u001b[31m8.9 MB/s\u001b[0m eta \u001b[36m0:00:00\u001b[0m\n",
            "\u001b[?25hRequirement already satisfied: tensorflow-io-gcs-filesystem>=0.23.1 in /usr/local/lib/python3.10/dist-packages (from tensorflow) (0.34.0)\n",
            "Requirement already satisfied: grpcio<2.0,>=1.24.3 in /usr/local/lib/python3.10/dist-packages (from tensorflow) (1.59.0)\n",
            "Collecting tensorboard<2.15,>=2.14 (from tensorflow)\n",
            "  Downloading tensorboard-2.14.1-py3-none-any.whl (5.5 MB)\n",
            "\u001b[2K     \u001b[90m━━━━━━━━━━━━━━━━━━━━━━━━━━━━━━━━━━━━━━━━\u001b[0m \u001b[32m5.5/5.5 MB\u001b[0m \u001b[31m48.9 MB/s\u001b[0m eta \u001b[36m0:00:00\u001b[0m\n",
            "\u001b[?25hCollecting tensorflow-estimator<2.15,>=2.14.0 (from tensorflow)\n",
            "  Downloading tensorflow_estimator-2.14.0-py2.py3-none-any.whl (440 kB)\n",
            "\u001b[2K     \u001b[90m━━━━━━━━━━━━━━━━━━━━━━━━━━━━━━━━━━━━━━━━\u001b[0m \u001b[32m440.7/440.7 kB\u001b[0m \u001b[31m35.0 MB/s\u001b[0m eta \u001b[36m0:00:00\u001b[0m\n",
            "\u001b[?25hCollecting keras<2.15,>=2.14.0 (from tensorflow)\n",
            "  Downloading keras-2.14.0-py3-none-any.whl (1.7 MB)\n",
            "\u001b[2K     \u001b[90m━━━━━━━━━━━━━━━━━━━━━━━━━━━━━━━━━━━━━━━━\u001b[0m \u001b[32m1.7/1.7 MB\u001b[0m \u001b[31m27.8 MB/s\u001b[0m eta \u001b[36m0:00:00\u001b[0m\n",
            "\u001b[?25hRequirement already satisfied: wheel<1.0,>=0.23.0 in /usr/local/lib/python3.10/dist-packages (from astunparse>=1.6.0->tensorflow) (0.41.2)\n",
            "Requirement already satisfied: google-auth<3,>=1.6.3 in /usr/local/lib/python3.10/dist-packages (from tensorboard<2.15,>=2.14->tensorflow) (2.17.3)\n",
            "Requirement already satisfied: google-auth-oauthlib<1.1,>=0.5 in /usr/local/lib/python3.10/dist-packages (from tensorboard<2.15,>=2.14->tensorflow) (1.0.0)\n",
            "Requirement already satisfied: markdown>=2.6.8 in /usr/local/lib/python3.10/dist-packages (from tensorboard<2.15,>=2.14->tensorflow) (3.5)\n",
            "Requirement already satisfied: requests<3,>=2.21.0 in /usr/local/lib/python3.10/dist-packages (from tensorboard<2.15,>=2.14->tensorflow) (2.31.0)\n",
            "Requirement already satisfied: tensorboard-data-server<0.8.0,>=0.7.0 in /usr/local/lib/python3.10/dist-packages (from tensorboard<2.15,>=2.14->tensorflow) (0.7.1)\n",
            "Requirement already satisfied: werkzeug>=1.0.1 in /usr/local/lib/python3.10/dist-packages (from tensorboard<2.15,>=2.14->tensorflow) (3.0.0)\n",
            "Requirement already satisfied: cachetools<6.0,>=2.0.0 in /usr/local/lib/python3.10/dist-packages (from google-auth<3,>=1.6.3->tensorboard<2.15,>=2.14->tensorflow) (5.3.1)\n",
            "Requirement already satisfied: pyasn1-modules>=0.2.1 in /usr/local/lib/python3.10/dist-packages (from google-auth<3,>=1.6.3->tensorboard<2.15,>=2.14->tensorflow) (0.3.0)\n",
            "Requirement already satisfied: rsa<5,>=3.1.4 in /usr/local/lib/python3.10/dist-packages (from google-auth<3,>=1.6.3->tensorboard<2.15,>=2.14->tensorflow) (4.9)\n",
            "Requirement already satisfied: requests-oauthlib>=0.7.0 in /usr/local/lib/python3.10/dist-packages (from google-auth-oauthlib<1.1,>=0.5->tensorboard<2.15,>=2.14->tensorflow) (1.3.1)\n",
            "Requirement already satisfied: charset-normalizer<4,>=2 in /usr/local/lib/python3.10/dist-packages (from requests<3,>=2.21.0->tensorboard<2.15,>=2.14->tensorflow) (3.3.0)\n",
            "Requirement already satisfied: idna<4,>=2.5 in /usr/local/lib/python3.10/dist-packages (from requests<3,>=2.21.0->tensorboard<2.15,>=2.14->tensorflow) (3.4)\n",
            "Requirement already satisfied: urllib3<3,>=1.21.1 in /usr/local/lib/python3.10/dist-packages (from requests<3,>=2.21.0->tensorboard<2.15,>=2.14->tensorflow) (2.0.7)\n",
            "Requirement already satisfied: certifi>=2017.4.17 in /usr/local/lib/python3.10/dist-packages (from requests<3,>=2.21.0->tensorboard<2.15,>=2.14->tensorflow) (2023.7.22)\n",
            "Requirement already satisfied: MarkupSafe>=2.1.1 in /usr/local/lib/python3.10/dist-packages (from werkzeug>=1.0.1->tensorboard<2.15,>=2.14->tensorflow) (2.1.3)\n",
            "Requirement already satisfied: pyasn1<0.6.0,>=0.4.6 in /usr/local/lib/python3.10/dist-packages (from pyasn1-modules>=0.2.1->google-auth<3,>=1.6.3->tensorboard<2.15,>=2.14->tensorflow) (0.5.0)\n",
            "Requirement already satisfied: oauthlib>=3.0.0 in /usr/local/lib/python3.10/dist-packages (from requests-oauthlib>=0.7.0->google-auth-oauthlib<1.1,>=0.5->tensorboard<2.15,>=2.14->tensorflow) (3.2.2)\n",
            "Installing collected packages: wrapt, tzdata, tensorflow-estimator, numpy, keras, pandas, ml-dtypes, matplotlib, tensorboard, seaborn, tensorflow\n",
            "  Attempting uninstall: wrapt\n",
            "    Found existing installation: wrapt 1.15.0\n",
            "    Uninstalling wrapt-1.15.0:\n",
            "      Successfully uninstalled wrapt-1.15.0\n",
            "  Attempting uninstall: tensorflow-estimator\n",
            "    Found existing installation: tensorflow-estimator 2.13.0\n",
            "    Uninstalling tensorflow-estimator-2.13.0:\n",
            "      Successfully uninstalled tensorflow-estimator-2.13.0\n",
            "  Attempting uninstall: numpy\n",
            "    Found existing installation: numpy 1.23.5\n",
            "    Uninstalling numpy-1.23.5:\n",
            "      Successfully uninstalled numpy-1.23.5\n",
            "  Attempting uninstall: keras\n",
            "    Found existing installation: keras 2.13.1\n",
            "    Uninstalling keras-2.13.1:\n",
            "      Successfully uninstalled keras-2.13.1\n",
            "  Attempting uninstall: pandas\n",
            "    Found existing installation: pandas 1.5.3\n",
            "    Uninstalling pandas-1.5.3:\n",
            "      Successfully uninstalled pandas-1.5.3\n",
            "  Attempting uninstall: ml-dtypes\n",
            "    Found existing installation: ml-dtypes 0.3.1\n",
            "    Uninstalling ml-dtypes-0.3.1:\n",
            "      Successfully uninstalled ml-dtypes-0.3.1\n",
            "  Attempting uninstall: matplotlib\n",
            "    Found existing installation: matplotlib 3.7.1\n",
            "    Uninstalling matplotlib-3.7.1:\n",
            "      Successfully uninstalled matplotlib-3.7.1\n",
            "  Attempting uninstall: tensorboard\n",
            "    Found existing installation: tensorboard 2.13.0\n",
            "    Uninstalling tensorboard-2.13.0:\n",
            "      Successfully uninstalled tensorboard-2.13.0\n",
            "  Attempting uninstall: seaborn\n",
            "    Found existing installation: seaborn 0.12.2\n",
            "    Uninstalling seaborn-0.12.2:\n",
            "      Successfully uninstalled seaborn-0.12.2\n",
            "  Attempting uninstall: tensorflow\n",
            "    Found existing installation: tensorflow 2.13.0\n",
            "    Uninstalling tensorflow-2.13.0:\n",
            "      Successfully uninstalled tensorflow-2.13.0\n",
            "\u001b[31mERROR: pip's dependency resolver does not currently take into account all the packages that are installed. This behaviour is the source of the following dependency conflicts.\n",
            "lida 0.0.10 requires fastapi, which is not installed.\n",
            "lida 0.0.10 requires kaleido, which is not installed.\n",
            "lida 0.0.10 requires python-multipart, which is not installed.\n",
            "lida 0.0.10 requires uvicorn, which is not installed.\n",
            "cupy-cuda11x 11.0.0 requires numpy<1.26,>=1.20, but you have numpy 1.26.1 which is incompatible.\n",
            "google-colab 1.0.0 requires pandas==1.5.3, but you have pandas 2.1.1 which is incompatible.\n",
            "numba 0.56.4 requires numpy<1.24,>=1.18, but you have numpy 1.26.1 which is incompatible.\u001b[0m\u001b[31m\n",
            "\u001b[0mSuccessfully installed keras-2.14.0 matplotlib-3.8.0 ml-dtypes-0.2.0 numpy-1.26.1 pandas-2.1.1 seaborn-0.13.0 tensorboard-2.14.1 tensorflow-2.14.0 tensorflow-estimator-2.14.0 tzdata-2023.3 wrapt-1.14.1\n"
          ]
        },
        {
          "output_type": "display_data",
          "data": {
            "application/vnd.colab-display-data+json": {
              "pip_warning": {
                "packages": [
                  "matplotlib",
                  "mpl_toolkits"
                ]
              }
            }
          },
          "metadata": {}
        }
      ],
      "source": [
        "!pip install --upgrade numpy pandas matplotlib seaborn tensorflow pydot"
      ]
    },
    {
      "cell_type": "code",
      "execution_count": null,
      "id": "176c5a8e-c998-460b-85a3-602513bbcec8",
      "metadata": {
        "id": "176c5a8e-c998-460b-85a3-602513bbcec8"
      },
      "outputs": [],
      "source": [
        "import numpy as np\n",
        "import pandas as pd\n",
        "import tensorflow as tf\n",
        "from matplotlib import pyplot as plt\n",
        "import seaborn as sns\n",
        "\n",
        "# The following lines adjust the granularity of reporting.\n",
        "pd.options.display.max_rows = 10\n",
        "pd.options.display.float_format = \"{:.1f}\".format"
      ]
    },
    {
      "cell_type": "code",
      "execution_count": null,
      "id": "1d8ecf55-b1cc-4254-842a-b99747866769",
      "metadata": {
        "id": "1d8ecf55-b1cc-4254-842a-b99747866769"
      },
      "outputs": [],
      "source": [
        "train_df = pd.read_csv(\"https://download.mlcc.google.com/mledu-datasets/california_housing_train.csv\")\n",
        "train_df = train_df.reindex(np.random.permutation(train_df.index))\n",
        "\n",
        "test_df = pd.read_csv(\"https://download.mlcc.google.com/mledu-datasets/california_housing_test.csv\")"
      ]
    },
    {
      "cell_type": "code",
      "source": [
        "train_df.corr()"
      ],
      "metadata": {
        "id": "PQe1SeBI7i1Q",
        "outputId": "950f9fd2-27c9-45f2-e795-6cdd19d8ddd2",
        "colab": {
          "base_uri": "https://localhost:8080/",
          "height": 332
        }
      },
      "id": "PQe1SeBI7i1Q",
      "execution_count": null,
      "outputs": [
        {
          "output_type": "execute_result",
          "data": {
            "text/plain": [
              "                    longitude  latitude  housing_median_age  total_rooms  \\\n",
              "longitude                 1.0      -0.9                -0.1          0.0   \n",
              "latitude                 -0.9       1.0                 0.0         -0.0   \n",
              "housing_median_age       -0.1       0.0                 1.0         -0.4   \n",
              "total_rooms               0.0      -0.0                -0.4          1.0   \n",
              "total_bedrooms            0.1      -0.1                -0.3          0.9   \n",
              "population                0.1      -0.1                -0.3          0.9   \n",
              "households                0.1      -0.1                -0.3          0.9   \n",
              "median_income            -0.0      -0.1                -0.1          0.2   \n",
              "median_house_value       -0.0      -0.1                 0.1          0.1   \n",
              "\n",
              "                    total_bedrooms  population  households  median_income  \\\n",
              "longitude                      0.1         0.1         0.1           -0.0   \n",
              "latitude                      -0.1        -0.1        -0.1           -0.1   \n",
              "housing_median_age            -0.3        -0.3        -0.3           -0.1   \n",
              "total_rooms                    0.9         0.9         0.9            0.2   \n",
              "total_bedrooms                 1.0         0.9         1.0           -0.0   \n",
              "population                     0.9         1.0         0.9           -0.0   \n",
              "households                     1.0         0.9         1.0            0.0   \n",
              "median_income                 -0.0        -0.0         0.0            1.0   \n",
              "median_house_value             0.0        -0.0         0.1            0.7   \n",
              "\n",
              "                    median_house_value  \n",
              "longitude                         -0.0  \n",
              "latitude                          -0.1  \n",
              "housing_median_age                 0.1  \n",
              "total_rooms                        0.1  \n",
              "total_bedrooms                     0.0  \n",
              "population                        -0.0  \n",
              "households                         0.1  \n",
              "median_income                      0.7  \n",
              "median_house_value                 1.0  "
            ],
            "text/html": [
              "\n",
              "  <div id=\"df-2e3c0871-bf8e-4dbb-bf58-985e3d3ea72b\" class=\"colab-df-container\">\n",
              "    <div>\n",
              "<style scoped>\n",
              "    .dataframe tbody tr th:only-of-type {\n",
              "        vertical-align: middle;\n",
              "    }\n",
              "\n",
              "    .dataframe tbody tr th {\n",
              "        vertical-align: top;\n",
              "    }\n",
              "\n",
              "    .dataframe thead th {\n",
              "        text-align: right;\n",
              "    }\n",
              "</style>\n",
              "<table border=\"1\" class=\"dataframe\">\n",
              "  <thead>\n",
              "    <tr style=\"text-align: right;\">\n",
              "      <th></th>\n",
              "      <th>longitude</th>\n",
              "      <th>latitude</th>\n",
              "      <th>housing_median_age</th>\n",
              "      <th>total_rooms</th>\n",
              "      <th>total_bedrooms</th>\n",
              "      <th>population</th>\n",
              "      <th>households</th>\n",
              "      <th>median_income</th>\n",
              "      <th>median_house_value</th>\n",
              "    </tr>\n",
              "  </thead>\n",
              "  <tbody>\n",
              "    <tr>\n",
              "      <th>longitude</th>\n",
              "      <td>1.0</td>\n",
              "      <td>-0.9</td>\n",
              "      <td>-0.1</td>\n",
              "      <td>0.0</td>\n",
              "      <td>0.1</td>\n",
              "      <td>0.1</td>\n",
              "      <td>0.1</td>\n",
              "      <td>-0.0</td>\n",
              "      <td>-0.0</td>\n",
              "    </tr>\n",
              "    <tr>\n",
              "      <th>latitude</th>\n",
              "      <td>-0.9</td>\n",
              "      <td>1.0</td>\n",
              "      <td>0.0</td>\n",
              "      <td>-0.0</td>\n",
              "      <td>-0.1</td>\n",
              "      <td>-0.1</td>\n",
              "      <td>-0.1</td>\n",
              "      <td>-0.1</td>\n",
              "      <td>-0.1</td>\n",
              "    </tr>\n",
              "    <tr>\n",
              "      <th>housing_median_age</th>\n",
              "      <td>-0.1</td>\n",
              "      <td>0.0</td>\n",
              "      <td>1.0</td>\n",
              "      <td>-0.4</td>\n",
              "      <td>-0.3</td>\n",
              "      <td>-0.3</td>\n",
              "      <td>-0.3</td>\n",
              "      <td>-0.1</td>\n",
              "      <td>0.1</td>\n",
              "    </tr>\n",
              "    <tr>\n",
              "      <th>total_rooms</th>\n",
              "      <td>0.0</td>\n",
              "      <td>-0.0</td>\n",
              "      <td>-0.4</td>\n",
              "      <td>1.0</td>\n",
              "      <td>0.9</td>\n",
              "      <td>0.9</td>\n",
              "      <td>0.9</td>\n",
              "      <td>0.2</td>\n",
              "      <td>0.1</td>\n",
              "    </tr>\n",
              "    <tr>\n",
              "      <th>total_bedrooms</th>\n",
              "      <td>0.1</td>\n",
              "      <td>-0.1</td>\n",
              "      <td>-0.3</td>\n",
              "      <td>0.9</td>\n",
              "      <td>1.0</td>\n",
              "      <td>0.9</td>\n",
              "      <td>1.0</td>\n",
              "      <td>-0.0</td>\n",
              "      <td>0.0</td>\n",
              "    </tr>\n",
              "    <tr>\n",
              "      <th>population</th>\n",
              "      <td>0.1</td>\n",
              "      <td>-0.1</td>\n",
              "      <td>-0.3</td>\n",
              "      <td>0.9</td>\n",
              "      <td>0.9</td>\n",
              "      <td>1.0</td>\n",
              "      <td>0.9</td>\n",
              "      <td>-0.0</td>\n",
              "      <td>-0.0</td>\n",
              "    </tr>\n",
              "    <tr>\n",
              "      <th>households</th>\n",
              "      <td>0.1</td>\n",
              "      <td>-0.1</td>\n",
              "      <td>-0.3</td>\n",
              "      <td>0.9</td>\n",
              "      <td>1.0</td>\n",
              "      <td>0.9</td>\n",
              "      <td>1.0</td>\n",
              "      <td>0.0</td>\n",
              "      <td>0.1</td>\n",
              "    </tr>\n",
              "    <tr>\n",
              "      <th>median_income</th>\n",
              "      <td>-0.0</td>\n",
              "      <td>-0.1</td>\n",
              "      <td>-0.1</td>\n",
              "      <td>0.2</td>\n",
              "      <td>-0.0</td>\n",
              "      <td>-0.0</td>\n",
              "      <td>0.0</td>\n",
              "      <td>1.0</td>\n",
              "      <td>0.7</td>\n",
              "    </tr>\n",
              "    <tr>\n",
              "      <th>median_house_value</th>\n",
              "      <td>-0.0</td>\n",
              "      <td>-0.1</td>\n",
              "      <td>0.1</td>\n",
              "      <td>0.1</td>\n",
              "      <td>0.0</td>\n",
              "      <td>-0.0</td>\n",
              "      <td>0.1</td>\n",
              "      <td>0.7</td>\n",
              "      <td>1.0</td>\n",
              "    </tr>\n",
              "  </tbody>\n",
              "</table>\n",
              "</div>\n",
              "    <div class=\"colab-df-buttons\">\n",
              "\n",
              "  <div class=\"colab-df-container\">\n",
              "    <button class=\"colab-df-convert\" onclick=\"convertToInteractive('df-2e3c0871-bf8e-4dbb-bf58-985e3d3ea72b')\"\n",
              "            title=\"Convert this dataframe to an interactive table.\"\n",
              "            style=\"display:none;\">\n",
              "\n",
              "  <svg xmlns=\"http://www.w3.org/2000/svg\" height=\"24px\" viewBox=\"0 -960 960 960\">\n",
              "    <path d=\"M120-120v-720h720v720H120Zm60-500h600v-160H180v160Zm220 220h160v-160H400v160Zm0 220h160v-160H400v160ZM180-400h160v-160H180v160Zm440 0h160v-160H620v160ZM180-180h160v-160H180v160Zm440 0h160v-160H620v160Z\"/>\n",
              "  </svg>\n",
              "    </button>\n",
              "\n",
              "  <style>\n",
              "    .colab-df-container {\n",
              "      display:flex;\n",
              "      gap: 12px;\n",
              "    }\n",
              "\n",
              "    .colab-df-convert {\n",
              "      background-color: #E8F0FE;\n",
              "      border: none;\n",
              "      border-radius: 50%;\n",
              "      cursor: pointer;\n",
              "      display: none;\n",
              "      fill: #1967D2;\n",
              "      height: 32px;\n",
              "      padding: 0 0 0 0;\n",
              "      width: 32px;\n",
              "    }\n",
              "\n",
              "    .colab-df-convert:hover {\n",
              "      background-color: #E2EBFA;\n",
              "      box-shadow: 0px 1px 2px rgba(60, 64, 67, 0.3), 0px 1px 3px 1px rgba(60, 64, 67, 0.15);\n",
              "      fill: #174EA6;\n",
              "    }\n",
              "\n",
              "    .colab-df-buttons div {\n",
              "      margin-bottom: 4px;\n",
              "    }\n",
              "\n",
              "    [theme=dark] .colab-df-convert {\n",
              "      background-color: #3B4455;\n",
              "      fill: #D2E3FC;\n",
              "    }\n",
              "\n",
              "    [theme=dark] .colab-df-convert:hover {\n",
              "      background-color: #434B5C;\n",
              "      box-shadow: 0px 1px 3px 1px rgba(0, 0, 0, 0.15);\n",
              "      filter: drop-shadow(0px 1px 2px rgba(0, 0, 0, 0.3));\n",
              "      fill: #FFFFFF;\n",
              "    }\n",
              "  </style>\n",
              "\n",
              "    <script>\n",
              "      const buttonEl =\n",
              "        document.querySelector('#df-2e3c0871-bf8e-4dbb-bf58-985e3d3ea72b button.colab-df-convert');\n",
              "      buttonEl.style.display =\n",
              "        google.colab.kernel.accessAllowed ? 'block' : 'none';\n",
              "\n",
              "      async function convertToInteractive(key) {\n",
              "        const element = document.querySelector('#df-2e3c0871-bf8e-4dbb-bf58-985e3d3ea72b');\n",
              "        const dataTable =\n",
              "          await google.colab.kernel.invokeFunction('convertToInteractive',\n",
              "                                                    [key], {});\n",
              "        if (!dataTable) return;\n",
              "\n",
              "        const docLinkHtml = 'Like what you see? Visit the ' +\n",
              "          '<a target=\"_blank\" href=https://colab.research.google.com/notebooks/data_table.ipynb>data table notebook</a>'\n",
              "          + ' to learn more about interactive tables.';\n",
              "        element.innerHTML = '';\n",
              "        dataTable['output_type'] = 'display_data';\n",
              "        await google.colab.output.renderOutput(dataTable, element);\n",
              "        const docLink = document.createElement('div');\n",
              "        docLink.innerHTML = docLinkHtml;\n",
              "        element.appendChild(docLink);\n",
              "      }\n",
              "    </script>\n",
              "  </div>\n",
              "\n",
              "\n",
              "<div id=\"df-c3394fed-cd77-4820-b38b-6ba4bc09a126\">\n",
              "  <button class=\"colab-df-quickchart\" onclick=\"quickchart('df-c3394fed-cd77-4820-b38b-6ba4bc09a126')\"\n",
              "            title=\"Suggest charts.\"\n",
              "            style=\"display:none;\">\n",
              "\n",
              "<svg xmlns=\"http://www.w3.org/2000/svg\" height=\"24px\"viewBox=\"0 0 24 24\"\n",
              "     width=\"24px\">\n",
              "    <g>\n",
              "        <path d=\"M19 3H5c-1.1 0-2 .9-2 2v14c0 1.1.9 2 2 2h14c1.1 0 2-.9 2-2V5c0-1.1-.9-2-2-2zM9 17H7v-7h2v7zm4 0h-2V7h2v10zm4 0h-2v-4h2v4z\"/>\n",
              "    </g>\n",
              "</svg>\n",
              "  </button>\n",
              "\n",
              "<style>\n",
              "  .colab-df-quickchart {\n",
              "      --bg-color: #E8F0FE;\n",
              "      --fill-color: #1967D2;\n",
              "      --hover-bg-color: #E2EBFA;\n",
              "      --hover-fill-color: #174EA6;\n",
              "      --disabled-fill-color: #AAA;\n",
              "      --disabled-bg-color: #DDD;\n",
              "  }\n",
              "\n",
              "  [theme=dark] .colab-df-quickchart {\n",
              "      --bg-color: #3B4455;\n",
              "      --fill-color: #D2E3FC;\n",
              "      --hover-bg-color: #434B5C;\n",
              "      --hover-fill-color: #FFFFFF;\n",
              "      --disabled-bg-color: #3B4455;\n",
              "      --disabled-fill-color: #666;\n",
              "  }\n",
              "\n",
              "  .colab-df-quickchart {\n",
              "    background-color: var(--bg-color);\n",
              "    border: none;\n",
              "    border-radius: 50%;\n",
              "    cursor: pointer;\n",
              "    display: none;\n",
              "    fill: var(--fill-color);\n",
              "    height: 32px;\n",
              "    padding: 0;\n",
              "    width: 32px;\n",
              "  }\n",
              "\n",
              "  .colab-df-quickchart:hover {\n",
              "    background-color: var(--hover-bg-color);\n",
              "    box-shadow: 0 1px 2px rgba(60, 64, 67, 0.3), 0 1px 3px 1px rgba(60, 64, 67, 0.15);\n",
              "    fill: var(--button-hover-fill-color);\n",
              "  }\n",
              "\n",
              "  .colab-df-quickchart-complete:disabled,\n",
              "  .colab-df-quickchart-complete:disabled:hover {\n",
              "    background-color: var(--disabled-bg-color);\n",
              "    fill: var(--disabled-fill-color);\n",
              "    box-shadow: none;\n",
              "  }\n",
              "\n",
              "  .colab-df-spinner {\n",
              "    border: 2px solid var(--fill-color);\n",
              "    border-color: transparent;\n",
              "    border-bottom-color: var(--fill-color);\n",
              "    animation:\n",
              "      spin 1s steps(1) infinite;\n",
              "  }\n",
              "\n",
              "  @keyframes spin {\n",
              "    0% {\n",
              "      border-color: transparent;\n",
              "      border-bottom-color: var(--fill-color);\n",
              "      border-left-color: var(--fill-color);\n",
              "    }\n",
              "    20% {\n",
              "      border-color: transparent;\n",
              "      border-left-color: var(--fill-color);\n",
              "      border-top-color: var(--fill-color);\n",
              "    }\n",
              "    30% {\n",
              "      border-color: transparent;\n",
              "      border-left-color: var(--fill-color);\n",
              "      border-top-color: var(--fill-color);\n",
              "      border-right-color: var(--fill-color);\n",
              "    }\n",
              "    40% {\n",
              "      border-color: transparent;\n",
              "      border-right-color: var(--fill-color);\n",
              "      border-top-color: var(--fill-color);\n",
              "    }\n",
              "    60% {\n",
              "      border-color: transparent;\n",
              "      border-right-color: var(--fill-color);\n",
              "    }\n",
              "    80% {\n",
              "      border-color: transparent;\n",
              "      border-right-color: var(--fill-color);\n",
              "      border-bottom-color: var(--fill-color);\n",
              "    }\n",
              "    90% {\n",
              "      border-color: transparent;\n",
              "      border-bottom-color: var(--fill-color);\n",
              "    }\n",
              "  }\n",
              "</style>\n",
              "\n",
              "  <script>\n",
              "    async function quickchart(key) {\n",
              "      const quickchartButtonEl =\n",
              "        document.querySelector('#' + key + ' button');\n",
              "      quickchartButtonEl.disabled = true;  // To prevent multiple clicks.\n",
              "      quickchartButtonEl.classList.add('colab-df-spinner');\n",
              "      try {\n",
              "        const charts = await google.colab.kernel.invokeFunction(\n",
              "            'suggestCharts', [key], {});\n",
              "      } catch (error) {\n",
              "        console.error('Error during call to suggestCharts:', error);\n",
              "      }\n",
              "      quickchartButtonEl.classList.remove('colab-df-spinner');\n",
              "      quickchartButtonEl.classList.add('colab-df-quickchart-complete');\n",
              "    }\n",
              "    (() => {\n",
              "      let quickchartButtonEl =\n",
              "        document.querySelector('#df-c3394fed-cd77-4820-b38b-6ba4bc09a126 button');\n",
              "      quickchartButtonEl.style.display =\n",
              "        google.colab.kernel.accessAllowed ? 'block' : 'none';\n",
              "    })();\n",
              "  </script>\n",
              "</div>\n",
              "    </div>\n",
              "  </div>\n"
            ]
          },
          "metadata": {},
          "execution_count": 3
        }
      ]
    },
    {
      "cell_type": "markdown",
      "id": "9ebfa3d8-9182-4277-9d4b-b3180ff6d9cd",
      "metadata": {
        "id": "9ebfa3d8-9182-4277-9d4b-b3180ff6d9cd"
      },
      "source": [
        "## Represent data\n",
        "\n",
        "The following code cell creates preprocessing layers outputting three features:\n",
        "\n",
        "* `latitude` X `longitude` (a feature cross)\n",
        "* `median_income`\n",
        "* `population`\n",
        "\n",
        "This code cell specifies the features that you'll ultimately train the model on and how each of those features will be represented. The transformations (collected in `prepocessing_layers`) don't actually get applied until you pass a DataFrame to it, which will happen when we train the model.\n",
        "\n",
        "We'll use `preprocessing_layers` for both our linear regression model and our neural network model.\n",
        "\n",
        "(The [`keras.FeatureSpace`](https://keras.io/examples/structured_data/structured_data_classification_with_feature_space) utility offers an alternative to building individual Keras preprocessing layers -- give it a try, if you're feeling adventurous!)"
      ]
    },
    {
      "cell_type": "code",
      "execution_count": null,
      "id": "82e2c344-36a9-4c1c-8f6f-5aac24743825",
      "metadata": {
        "id": "82e2c344-36a9-4c1c-8f6f-5aac24743825"
      },
      "outputs": [],
      "source": [
        "# Keras Input tensors of float values - or defining inputs for desired data points, specifies data type, name, shape\n",
        "inputs = {\n",
        "    'latitude':\n",
        "        tf.keras.layers.Input(\n",
        "            shape=(1,),\n",
        "            dtype=tf.float32,\n",
        "            name='latitude'),\n",
        "    'longitude':\n",
        "        tf.keras.layers.Input(\n",
        "            shape=(1,),\n",
        "            dtype=tf.float32,\n",
        "            name='longitude'),\n",
        "    'median_income':\n",
        "        tf.keras.layers.Input(\n",
        "            shape=(1,),\n",
        "            dtype=tf.float32,\n",
        "            name='median_income'),\n",
        "    'population':\n",
        "        tf.keras.layers.Input(\n",
        "            shape=(1,),\n",
        "            dtype=tf.float32,\n",
        "            name='population')\n",
        "}"
      ]
    },
    {
      "cell_type": "markdown",
      "id": "97502d08-b2bd-4572-b97b-cb544c587157",
      "metadata": {
        "id": "97502d08-b2bd-4572-b97b-cb544c587157"
      },
      "source": [
        "# Normalization Layers\n",
        "\n",
        "This layer will shift and scale inputs into a distribution centered around 0 with standard deviation 1. It accomplishes this by precomputing the mean and variance of the data, and calling `(input - mean) / sqrt(var)` at runtime.\n",
        "\n",
        "The mean and variance values for the layer must be either supplied on construction or learned via `adapt()`. `adapt()` will compute the mean and variance of the data and store them as the layer's weights. `adapt()` should be called before `fit()`, `evaluate()`, or `predict()`."
      ]
    },
    {
      "cell_type": "code",
      "execution_count": null,
      "id": "64e7a0c1-4540-4c72-8a91-9433bb19e2b1",
      "metadata": {
        "id": "64e7a0c1-4540-4c72-8a91-9433bb19e2b1"
      },
      "outputs": [],
      "source": [
        "# Create a Normalization layer to normalize the median_income data.\n",
        "median_income = tf.keras.layers.Normalization(\n",
        "    name='normalization_median_income',\n",
        "    axis=None)\n",
        "median_income.adapt(train_df['median_income'])\n",
        "median_income = median_income(inputs.get('median_income'))\n",
        "\n",
        "# Create a Normalization layer to normalize the population data.\n",
        "population = tf.keras.layers.Normalization(\n",
        "    name='normalization_population',\n",
        "    axis=None)\n",
        "population.adapt(train_df['population'])\n",
        "population = population(inputs.get('population'))\n",
        "\n",
        "# Create a Normalization layer to normalize the latitude data.\n",
        "latitude = tf.keras.layers.Normalization(\n",
        "    name='normalization_latitude',\n",
        "    axis=None)\n",
        "latitude.adapt(train_df['latitude'])\n",
        "latitude = latitude(inputs.get('latitude'))\n",
        "\n",
        "# Create a Normalization layer to normalize the longitude data.\n",
        "longitude = tf.keras.layers.Normalization(\n",
        "    name='normalization_longitude',\n",
        "    axis=None)\n",
        "longitude.adapt(train_df['longitude'])\n",
        "longitude = longitude(inputs.get('longitude'))\n",
        "\n",
        "# Create Normalization layers to normalize the median_house_value data.\n",
        "# Because median_house_value is our label (i.e., the target value we're\n",
        "# predicting), these layers won't be added to our model.\n",
        "train_median_house_value_normalized = tf.keras.layers.Normalization(axis=None)\n",
        "train_median_house_value_normalized.adapt(\n",
        "    np.array(train_df['median_house_value']))\n",
        "\n",
        "test_median_house_value_normalized = tf.keras.layers.Normalization(axis=None)\n",
        "test_median_house_value_normalized.adapt(\n",
        "    np.array(test_df['median_house_value']))"
      ]
    },
    {
      "cell_type": "markdown",
      "id": "d280ba45-f02b-4448-b8a3-bb0fc17dcf72",
      "metadata": {
        "id": "d280ba45-f02b-4448-b8a3-bb0fc17dcf72"
      },
      "source": [
        "# Bucketizing Values\n",
        "\n",
        "Create a list of numbers representing the bucket boundaries for latitude. Because we're using a Normalization layer, values for latitude and longitude\n",
        "will be in the range of approximately -3 to 3 (representing the Z score). We'll create 20 buckets, which requires 21 bucket boundaries (hence, 20+1).\n",
        "\n",
        "To do this, we'll use a `Discretization()` layer, which will place each element of its input data into one of several contiguous ranges and output an integer index indicating which range each element was placed in."
      ]
    },
    {
      "cell_type": "code",
      "execution_count": null,
      "id": "b660c2dc-edba-4d20-b4fe-76eeecdecc05",
      "metadata": {
        "id": "b660c2dc-edba-4d20-b4fe-76eeecdecc05"
      },
      "outputs": [],
      "source": [
        "latitude_boundaries = np.linspace(-3, 3, 20+1)\n",
        "longitude_boundaries = np.linspace(-3, 3, 20+1)\n",
        "\n",
        "# Create a Discretization layer to separate the latitude data into buckets. linspace - gives x amount of equally spaced buckets discretization - places our current values into the different buckets\n",
        "latitude = tf.keras.layers.Discretization(\n",
        "    bin_boundaries=latitude_boundaries,\n",
        "    name='discretization_latitude')(latitude)\n",
        "\n",
        "# Create a Discretization layer to separate the longitude data into buckets.\n",
        "longitude = tf.keras.layers.Discretization(\n",
        "    bin_boundaries=longitude_boundaries,\n",
        "    name='discretization_longitude')(longitude)"
      ]
    },
    {
      "cell_type": "markdown",
      "id": "d4c7cc7b-725a-4b5b-b9d4-520919c3823b",
      "metadata": {
        "id": "d4c7cc7b-725a-4b5b-b9d4-520919c3823b"
      },
      "source": [
        "# Feature Crosses\n",
        "\n",
        "This layer performs crosses of categorical features using the \"hashing trick\". Conceptually, the transformation can be thought of as: `hash(concatenate(features)) % num_bins`."
      ]
    },
    {
      "cell_type": "code",
      "execution_count": null,
      "id": "1cdc70d6-3ebb-4530-9938-8988d3f9ca90",
      "metadata": {
        "id": "1cdc70d6-3ebb-4530-9938-8988d3f9ca90"
      },
      "outputs": [],
      "source": [
        "# Cross the latitude and longitude features into a single one-hot vector.\n",
        "feature_cross = tf.keras.layers.HashedCrossing(\n",
        "    # num_bins can be adjusted: Higher values improve accuracy, lower values\n",
        "    # improve performance.\n",
        "    num_bins=len(latitude_boundaries) * len(longitude_boundaries),\n",
        "    output_mode='one_hot',\n",
        "    name='cross_latitude_longitude')([latitude, longitude])"
      ]
    },
    {
      "cell_type": "markdown",
      "id": "463ec7ff-c597-4d30-9e27-e45c04b7d3d1",
      "metadata": {
        "id": "463ec7ff-c597-4d30-9e27-e45c04b7d3d1"
      },
      "source": [
        "# Concatenation\n",
        "\n",
        "Finally, we will combine all three of our inputs into a single tensor using a `Concatenate()` layer"
      ]
    },
    {
      "cell_type": "code",
      "execution_count": null,
      "id": "7c8d1603-a449-4b9e-9ff6-cf0a8b10221d",
      "metadata": {
        "id": "7c8d1603-a449-4b9e-9ff6-cf0a8b10221d"
      },
      "outputs": [],
      "source": [
        "# Concatenate our inputs into a single tensor.\n",
        "preprocessing_layers = tf.keras.layers.Concatenate()(\n",
        "    [feature_cross, median_income, population])\n",
        "\n",
        "dense_output = tf.keras.layers.Dense(\n",
        "    units=1,\n",
        "    name='dense_output')(preprocessing_layers)\n",
        "\n",
        "# Define an output dictionary we'll send to the model constructor.\n",
        "outputs = {\n",
        "'dense_output': dense_output\n",
        "}"
      ]
    },
    {
      "cell_type": "markdown",
      "id": "ab141791-0962-4e8d-9f1d-ae3c44cb181e",
      "metadata": {
        "id": "ab141791-0962-4e8d-9f1d-ae3c44cb181e"
      },
      "source": [
        "-----\n",
        "\n",
        "# Baseline Linear Regression\n",
        "\n",
        "Let's first train a multiple linear regression on the preprocessing layers we just created. This will give us a good baseline model to compare our neural network against."
      ]
    },
    {
      "cell_type": "code",
      "execution_count": null,
      "id": "0dddb633-cba2-428f-ae0d-2d401fe6cd52",
      "metadata": {
        "id": "0dddb633-cba2-428f-ae0d-2d401fe6cd52"
      },
      "outputs": [],
      "source": [
        "learning_rate = 0.01\n",
        "epochs = 15\n",
        "batch_size = 1000\n",
        "label_name = \"median_house_value\"\n",
        "\n",
        "validation_split = 0.2"
      ]
    },
    {
      "cell_type": "code",
      "execution_count": null,
      "id": "0053eb14-6789-428e-b1f4-19895b82f23e",
      "metadata": {
        "id": "0053eb14-6789-428e-b1f4-19895b82f23e",
        "outputId": "5a3a1a23-59bb-468c-83d7-0a48bd14dbcf",
        "colab": {
          "base_uri": "https://localhost:8080/"
        }
      },
      "outputs": [
        {
          "output_type": "stream",
          "name": "stdout",
          "text": [
            "Model: \"model\"\n",
            "__________________________________________________________________________________________________\n",
            " Layer (type)                Output Shape                 Param #   Connected to                  \n",
            "==================================================================================================\n",
            " latitude (InputLayer)       [(None, 1)]                  0         []                            \n",
            "                                                                                                  \n",
            " longitude (InputLayer)      [(None, 1)]                  0         []                            \n",
            "                                                                                                  \n",
            " normalization_latitude (No  (None, 1)                    3         ['latitude[0][0]']            \n",
            " rmalization)                                                                                     \n",
            "                                                                                                  \n",
            " normalization_longitude (N  (None, 1)                    3         ['longitude[0][0]']           \n",
            " ormalization)                                                                                    \n",
            "                                                                                                  \n",
            " discretization_latitude (D  (None, 1)                    0         ['normalization_latitude[0][0]\n",
            " iscretization)                                                     ']                            \n",
            "                                                                                                  \n",
            " discretization_longitude (  (None, 1)                    0         ['normalization_longitude[0][0\n",
            " Discretization)                                                    ]']                           \n",
            "                                                                                                  \n",
            " median_income (InputLayer)  [(None, 1)]                  0         []                            \n",
            "                                                                                                  \n",
            " population (InputLayer)     [(None, 1)]                  0         []                            \n",
            "                                                                                                  \n",
            " cross_latitude_longitude (  (None, 441)                  0         ['discretization_latitude[0][0\n",
            " HashedCrossing)                                                    ]',                           \n",
            "                                                                     'discretization_longitude[0][\n",
            "                                                                    0]']                          \n",
            "                                                                                                  \n",
            " normalization_median_incom  (None, 1)                    3         ['median_income[0][0]']       \n",
            " e (Normalization)                                                                                \n",
            "                                                                                                  \n",
            " normalization_population (  (None, 1)                    3         ['population[0][0]']          \n",
            " Normalization)                                                                                   \n",
            "                                                                                                  \n",
            " concatenate (Concatenate)   (None, 443)                  0         ['cross_latitude_longitude[0][\n",
            "                                                                    0]',                          \n",
            "                                                                     'normalization_median_income[\n",
            "                                                                    0][0]',                       \n",
            "                                                                     'normalization_population[0][\n",
            "                                                                    0]']                          \n",
            "                                                                                                  \n",
            " dense_output (Dense)        (None, 1)                    444       ['concatenate[0][0]']         \n",
            "                                                                                                  \n",
            "==================================================================================================\n",
            "Total params: 456 (1.80 KB)\n",
            "Trainable params: 444 (1.73 KB)\n",
            "Non-trainable params: 12 (64.00 Byte)\n",
            "__________________________________________________________________________________________________\n"
          ]
        }
      ],
      "source": [
        "lin_model = tf.keras.Model(inputs=inputs, outputs=outputs)\n",
        "lin_model.compile(\n",
        "    optimizer=tf.keras.optimizers.Adam(learning_rate=learning_rate),\n",
        "    loss=\"mean_squared_error\",\n",
        "    metrics=[tf.keras.metrics.MeanSquaredError()]\n",
        ")\n",
        "lin_model.summary()"
      ]
    },
    {
      "cell_type": "code",
      "source": [
        "tf.keras.utils.plot_model(lin_model) #good way to check if the model is structued correctly"
      ],
      "metadata": {
        "id": "QglDBd4u-dOO",
        "outputId": "0aec25cb-31fb-4862-d55d-35c37381347d",
        "colab": {
          "base_uri": "https://localhost:8080/",
          "height": 564
        }
      },
      "id": "QglDBd4u-dOO",
      "execution_count": null,
      "outputs": [
        {
          "output_type": "execute_result",
          "data": {
            "image/png": "[encoded data removed]",
            "text/plain": [
              "<IPython.core.display.Image object>"
            ]
          },
          "metadata": {},
          "execution_count": 13
        }
      ]
    },
    {
      "cell_type": "code",
      "execution_count": null,
      "id": "4a2e7f35-20cf-43b2-8c62-53aed3ab9a0f",
      "metadata": {
        "id": "4a2e7f35-20cf-43b2-8c62-53aed3ab9a0f"
      },
      "outputs": [],
      "source": [
        "# Split the dataset into features and label.\n",
        "features = {name:np.array(value) for name, value in train_df.items()}\n",
        "label = train_median_house_value_normalized(\n",
        "    np.array(features.pop(label_name))\n",
        ")"
      ]
    },
    {
      "cell_type": "code",
      "execution_count": null,
      "id": "1523ebf8-5348-4d23-8a03-2bbe99c54645",
      "metadata": {
        "tags": [],
        "id": "1523ebf8-5348-4d23-8a03-2bbe99c54645",
        "outputId": "8317196b-7c4f-4577-8415-d50933edfe5c",
        "colab": {
          "base_uri": "https://localhost:8080/"
        }
      },
      "outputs": [
        {
          "output_type": "stream",
          "name": "stdout",
          "text": [
            "Epoch 1/15\n"
          ]
        },
        {
          "output_type": "stream",
          "name": "stderr",
          "text": [
            "/usr/local/lib/python3.10/dist-packages/keras/src/engine/functional.py:642: UserWarning: Input dict contained keys ['housing_median_age', 'total_rooms', 'total_bedrooms', 'households'] which did not match any model input. They will be ignored by the model.\n",
            "  inputs = self._flatten_to_reference_inputs(inputs)\n"
          ]
        },
        {
          "output_type": "stream",
          "name": "stdout",
          "text": [
            "14/14 [==============================] - 1s 31ms/step - loss: 0.9202 - mean_squared_error: 0.9202 - val_loss: 0.7622 - val_mean_squared_error: 0.7622\n",
            "Epoch 2/15\n",
            "14/14 [==============================] - 0s 11ms/step - loss: 0.6646 - mean_squared_error: 0.6646 - val_loss: 0.5665 - val_mean_squared_error: 0.5665\n",
            "Epoch 3/15\n",
            "14/14 [==============================] - 0s 9ms/step - loss: 0.5024 - mean_squared_error: 0.5024 - val_loss: 0.4508 - val_mean_squared_error: 0.4508\n",
            "Epoch 4/15\n",
            "14/14 [==============================] - 0s 9ms/step - loss: 0.4117 - mean_squared_error: 0.4117 - val_loss: 0.3922 - val_mean_squared_error: 0.3922\n",
            "Epoch 5/15\n",
            "14/14 [==============================] - 0s 10ms/step - loss: 0.3676 - mean_squared_error: 0.3676 - val_loss: 0.3655 - val_mean_squared_error: 0.3655\n",
            "Epoch 6/15\n",
            "14/14 [==============================] - 0s 10ms/step - loss: 0.3481 - mean_squared_error: 0.3481 - val_loss: 0.3551 - val_mean_squared_error: 0.3551\n",
            "Epoch 7/15\n",
            "14/14 [==============================] - 0s 9ms/step - loss: 0.3404 - mean_squared_error: 0.3404 - val_loss: 0.3510 - val_mean_squared_error: 0.3510\n",
            "Epoch 8/15\n",
            "14/14 [==============================] - 0s 9ms/step - loss: 0.3373 - mean_squared_error: 0.3373 - val_loss: 0.3497 - val_mean_squared_error: 0.3497\n",
            "Epoch 9/15\n",
            "14/14 [==============================] - 0s 9ms/step - loss: 0.3361 - mean_squared_error: 0.3361 - val_loss: 0.3489 - val_mean_squared_error: 0.3489\n",
            "Epoch 10/15\n",
            "14/14 [==============================] - 0s 10ms/step - loss: 0.3355 - mean_squared_error: 0.3355 - val_loss: 0.3484 - val_mean_squared_error: 0.3484\n",
            "Epoch 11/15\n",
            "14/14 [==============================] - 0s 10ms/step - loss: 0.3351 - mean_squared_error: 0.3351 - val_loss: 0.3481 - val_mean_squared_error: 0.3481\n",
            "Epoch 12/15\n",
            "14/14 [==============================] - 0s 9ms/step - loss: 0.3347 - mean_squared_error: 0.3347 - val_loss: 0.3480 - val_mean_squared_error: 0.3480\n",
            "Epoch 13/15\n",
            "14/14 [==============================] - 0s 8ms/step - loss: 0.3345 - mean_squared_error: 0.3345 - val_loss: 0.3478 - val_mean_squared_error: 0.3478\n",
            "Epoch 14/15\n",
            "14/14 [==============================] - 0s 9ms/step - loss: 0.3344 - mean_squared_error: 0.3344 - val_loss: 0.3474 - val_mean_squared_error: 0.3474\n",
            "Epoch 15/15\n",
            "14/14 [==============================] - 0s 9ms/step - loss: 0.3344 - mean_squared_error: 0.3344 - val_loss: 0.3473 - val_mean_squared_error: 0.3473\n"
          ]
        }
      ],
      "source": [
        "history = lin_model.fit(\n",
        "    x=features,\n",
        "    y=label,\n",
        "    batch_size=batch_size,\n",
        "    epochs=epochs,\n",
        "    shuffle=True,\n",
        "    validation_split=validation_split)\n",
        "\n",
        "# Get details that will be useful for plotting the loss curve.\n",
        "epochs = history.epoch\n",
        "hist = pd.DataFrame(history.history)\n",
        "mse = hist[\"mean_squared_error\"]"
      ]
    },
    {
      "cell_type": "code",
      "execution_count": null,
      "id": "740ecd1a-81cf-4658-b212-ef7ab661921b",
      "metadata": {
        "id": "740ecd1a-81cf-4658-b212-ef7ab661921b",
        "outputId": "99af4a58-bb1f-4e77-819b-7213abffc517",
        "colab": {
          "base_uri": "https://localhost:8080/",
          "height": 449
        }
      },
      "outputs": [
        {
          "output_type": "display_data",
          "data": {
            "text/plain": [
              "<Figure size 640x480 with 1 Axes>"
            ],
            "image/png": "[encoded data removed]"
          },
          "metadata": {}
        }
      ],
      "source": [
        "plt.figure()\n",
        "plt.xlabel(\"Epoch\")\n",
        "plt.ylabel(\"Mean Squared Error\")\n",
        "\n",
        "plt.plot(epochs, mse, label=\"Training Loss\")\n",
        "plt.plot(epochs, history.history[\"val_mean_squared_error\"], label=\"Validation Loss\")\n",
        "\n",
        "# mse_training is a pandas Series, so convert it to a list first.\n",
        "merged_mse_lists = mse.tolist() + history.history[\"val_mean_squared_error\"]\n",
        "highest_loss = max(merged_mse_lists)\n",
        "lowest_loss = min(merged_mse_lists)\n",
        "top_of_y_axis = highest_loss * 1.03\n",
        "bottom_of_y_axis = lowest_loss * 0.97\n",
        "\n",
        "plt.ylim([bottom_of_y_axis, top_of_y_axis])\n",
        "plt.legend()\n",
        "plt.show()"
      ]
    },
    {
      "cell_type": "markdown",
      "id": "819d3b15-b6a3-458b-8f91-1d17344ed1e7",
      "metadata": {
        "id": "819d3b15-b6a3-458b-8f91-1d17344ed1e7"
      },
      "source": [
        "-----\n",
        "\n",
        "# Train a Neural Network"
      ]
    },
    {
      "cell_type": "code",
      "execution_count": null,
      "id": "ffdf9b52-3bc2-4042-9188-0987f00d54e5",
      "metadata": {
        "id": "ffdf9b52-3bc2-4042-9188-0987f00d54e5"
      },
      "outputs": [],
      "source": [
        "dense_output = tf.keras.layers.Dense(\n",
        "    units=20,\n",
        "    activation='relu',\n",
        "    name='hidden_dense_layer_1')(preprocessing_layers)\n",
        "\n",
        "# Create a Dense layer with 12 nodes.\n",
        "dense_output = tf.keras.layers.Dense(\n",
        "    units=12,\n",
        "    activation='relu',\n",
        "    name='hidden_dense_layer_2')(dense_output)\n",
        "\n",
        "# Create the Dense output layer.\n",
        "dense_output = tf.keras.layers.Dense(\n",
        "    units=1,\n",
        "    name='dense_output')(dense_output)\n",
        "\n",
        "# Define an output dictionary we'll send to the model constructor.\n",
        "outputs = {\n",
        "'dense_output': dense_output\n",
        "}"
      ]
    },
    {
      "cell_type": "code",
      "execution_count": null,
      "id": "ba58288a-23b7-46e5-a162-d2330f9488aa",
      "metadata": {
        "id": "ba58288a-23b7-46e5-a162-d2330f9488aa"
      },
      "outputs": [],
      "source": [
        "dnn_model = tf.keras.Model(inputs=inputs, outputs=outputs)\n",
        "dnn_model.compile(\n",
        "    optimizer=tf.keras.optimizers.Adam(learning_rate=learning_rate),\n",
        "    loss=\"mean_squared_error\",\n",
        "    metrics=[tf.keras.metrics.MeanSquaredError()]\n",
        ")"
      ]
    },
    {
      "cell_type": "code",
      "execution_count": null,
      "id": "7d9893fc-fe1e-4b85-abf9-ca7b60be71d0",
      "metadata": {
        "id": "7d9893fc-fe1e-4b85-abf9-ca7b60be71d0",
        "outputId": "52a97edc-26ce-4802-8e81-9fcafa2350ab",
        "colab": {
          "base_uri": "https://localhost:8080/",
          "height": 758
        }
      },
      "outputs": [
        {
          "output_type": "execute_result",
          "data": {
            "image/png": "[encoded data removed]",
            "text/plain": [
              "<IPython.core.display.Image object>"
            ]
          },
          "metadata": {},
          "execution_count": 19
        }
      ],
      "source": [
        "tf.keras.utils.plot_model(dnn_model)"
      ]
    },
    {
      "cell_type": "code",
      "execution_count": null,
      "id": "94911b02-bbdc-4d85-b931-182dac6628b9",
      "metadata": {
        "id": "94911b02-bbdc-4d85-b931-182dac6628b9"
      },
      "outputs": [],
      "source": [
        "learning_rate = 0.01\n",
        "epochs = 15\n",
        "batch_size = 1000\n",
        "label_name = \"median_house_value\"\n",
        "\n",
        "validation_split = 0.2"
      ]
    },
    {
      "cell_type": "code",
      "execution_count": null,
      "id": "0bf58316-811b-40e5-a195-c2a346dcfc92",
      "metadata": {
        "id": "0bf58316-811b-40e5-a195-c2a346dcfc92",
        "outputId": "712284cb-9466-435e-e7f0-5ab5ff595a77",
        "colab": {
          "base_uri": "https://localhost:8080/"
        }
      },
      "outputs": [
        {
          "output_type": "stream",
          "name": "stdout",
          "text": [
            "Epoch 1/15\n",
            "14/14 [==============================] - 2s 52ms/step - loss: 0.6591 - mean_squared_error: 0.6591 - val_loss: 0.4299 - val_mean_squared_error: 0.4299\n",
            "Epoch 2/15\n",
            "14/14 [==============================] - 0s 22ms/step - loss: 0.3640 - mean_squared_error: 0.3640 - val_loss: 0.3573 - val_mean_squared_error: 0.3573\n",
            "Epoch 3/15\n",
            "14/14 [==============================] - 0s 14ms/step - loss: 0.3309 - mean_squared_error: 0.3309 - val_loss: 0.3389 - val_mean_squared_error: 0.3389\n",
            "Epoch 4/15\n",
            "14/14 [==============================] - 0s 13ms/step - loss: 0.3239 - mean_squared_error: 0.3239 - val_loss: 0.3360 - val_mean_squared_error: 0.3360\n",
            "Epoch 5/15\n",
            "14/14 [==============================] - 0s 13ms/step - loss: 0.3196 - mean_squared_error: 0.3196 - val_loss: 0.3346 - val_mean_squared_error: 0.3346\n",
            "Epoch 6/15\n",
            "14/14 [==============================] - 0s 12ms/step - loss: 0.3175 - mean_squared_error: 0.3175 - val_loss: 0.3316 - val_mean_squared_error: 0.3316\n",
            "Epoch 7/15\n",
            "14/14 [==============================] - 0s 12ms/step - loss: 0.3175 - mean_squared_error: 0.3175 - val_loss: 0.3343 - val_mean_squared_error: 0.3343\n",
            "Epoch 8/15\n",
            "14/14 [==============================] - 0s 14ms/step - loss: 0.3147 - mean_squared_error: 0.3147 - val_loss: 0.3292 - val_mean_squared_error: 0.3292\n",
            "Epoch 9/15\n",
            "14/14 [==============================] - 0s 13ms/step - loss: 0.3131 - mean_squared_error: 0.3131 - val_loss: 0.3292 - val_mean_squared_error: 0.3292\n",
            "Epoch 10/15\n",
            "14/14 [==============================] - 0s 12ms/step - loss: 0.3126 - mean_squared_error: 0.3126 - val_loss: 0.3300 - val_mean_squared_error: 0.3300\n",
            "Epoch 11/15\n",
            "14/14 [==============================] - 0s 12ms/step - loss: 0.3122 - mean_squared_error: 0.3122 - val_loss: 0.3326 - val_mean_squared_error: 0.3326\n",
            "Epoch 12/15\n",
            "14/14 [==============================] - 0s 11ms/step - loss: 0.3110 - mean_squared_error: 0.3110 - val_loss: 0.3269 - val_mean_squared_error: 0.3269\n",
            "Epoch 13/15\n",
            "14/14 [==============================] - 0s 12ms/step - loss: 0.3107 - mean_squared_error: 0.3107 - val_loss: 0.3310 - val_mean_squared_error: 0.3310\n",
            "Epoch 14/15\n",
            "14/14 [==============================] - 0s 12ms/step - loss: 0.3095 - mean_squared_error: 0.3095 - val_loss: 0.3268 - val_mean_squared_error: 0.3268\n",
            "Epoch 15/15\n",
            "14/14 [==============================] - 0s 12ms/step - loss: 0.3085 - mean_squared_error: 0.3085 - val_loss: 0.3275 - val_mean_squared_error: 0.3275\n"
          ]
        }
      ],
      "source": [
        "history = dnn_model.fit(\n",
        "    x=features,\n",
        "    y=label,\n",
        "    batch_size=batch_size,\n",
        "    epochs=epochs,\n",
        "    shuffle=True,\n",
        "    validation_split=validation_split)\n",
        "\n",
        "# Get details that will be useful for plotting the loss curve.\n",
        "epochs = history.epoch\n",
        "hist = pd.DataFrame(history.history)\n",
        "mse = hist[\"mean_squared_error\"]"
      ]
    },
    {
      "cell_type": "code",
      "execution_count": null,
      "id": "9c142bed-94b9-4a21-b9d0-f8fae89cd36a",
      "metadata": {
        "id": "9c142bed-94b9-4a21-b9d0-f8fae89cd36a",
        "outputId": "d3b96567-c368-466c-f421-058211f06049",
        "colab": {
          "base_uri": "https://localhost:8080/",
          "height": 449
        }
      },
      "outputs": [
        {
          "output_type": "display_data",
          "data": {
            "text/plain": [
              "<Figure size 640x480 with 1 Axes>"
            ],
            "image/png": "[encoded data removed]"
          },
          "metadata": {}
        }
      ],
      "source": [
        "plt.figure()\n",
        "plt.xlabel(\"Epoch\")\n",
        "plt.ylabel(\"Mean Squared Error\")\n",
        "\n",
        "plt.plot(epochs, mse, label=\"Training Loss\")\n",
        "plt.plot(epochs, history.history[\"val_mean_squared_error\"], label=\"Validation Loss\")\n",
        "\n",
        "# mse_training is a pandas Series, so convert it to a list first.\n",
        "merged_mse_lists = mse.tolist() + history.history[\"val_mean_squared_error\"]\n",
        "highest_loss = max(merged_mse_lists)\n",
        "lowest_loss = min(merged_mse_lists)\n",
        "top_of_y_axis = highest_loss * 1.03\n",
        "bottom_of_y_axis = lowest_loss * 0.97\n",
        "\n",
        "plt.ylim([bottom_of_y_axis, top_of_y_axis])\n",
        "plt.legend()\n",
        "plt.show()"
      ]
    },
    {
      "cell_type": "code",
      "execution_count": null,
      "id": "60525f66-9826-4c08-a721-f1a4f79dafbf",
      "metadata": {
        "id": "60525f66-9826-4c08-a721-f1a4f79dafbf",
        "outputId": "beb4d077-f6c1-499b-94df-4f483620ae5e",
        "colab": {
          "base_uri": "https://localhost:8080/"
        }
      },
      "outputs": [
        {
          "output_type": "stream",
          "name": "stdout",
          "text": [
            "\n",
            " Evaluate the new model against the test set:\n",
            "3/3 [==============================] - 0s 10ms/step - loss: 0.3457 - mean_squared_error: 0.3457\n"
          ]
        },
        {
          "output_type": "execute_result",
          "data": {
            "text/plain": [
              "{'loss': 0.3457486033439636, 'mean_squared_error': 0.3457486033439636}"
            ]
          },
          "metadata": {},
          "execution_count": 23
        }
      ],
      "source": [
        "# After building a model against the training set, test that model\n",
        "# against the test set.\n",
        "test_features = {name:np.array(value) for name, value in test_df.items()}\n",
        "test_label = test_median_house_value_normalized(np.array(test_features.pop(label_name)))\n",
        "\n",
        "print(\"\\n Evaluate the new model against the test set:\")\n",
        "dnn_model.evaluate(\n",
        "    x=test_features,\n",
        "    y=test_label,\n",
        "    batch_size=batch_size,\n",
        "    return_dict=True)"
      ]
    },
    {
      "cell_type": "markdown",
      "id": "64e61163-480f-4f5f-a910-e4a170df43a9",
      "metadata": {
        "id": "64e61163-480f-4f5f-a910-e4a170df43a9"
      },
      "source": [
        "# Lab Exercise\n",
        "\n",
        "Craigslist is the world's largest collection of used vehicles for sale. GitHub user [@AustinReese](https://github.com/AustinReese/UsedVehicleSearch) scraped Craigslist used car ads to create a dataset of 4.25 million listings. We will be using a subset of around 2 million of these listings.\n",
        "\n",
        "For this lab:\n",
        "\n",
        "  1. Clean and preprocess your data:\n",
        "      - Create a training dataset that includes `price`, `ageOfCar` (in years), `manufacturer` (dummy-encoded), `condition` (dummy-encoded), `odometer`, and `isCarvana` (0 or 1)\n",
        "      - Be sure to remove any outliers from your dataset as you go\n",
        "  2. Define a feed-forward neural network\n",
        "      - It should take `ageOfCar`, `manufacturer`, `condition`, `odometer`, and `isCarvana` as inputs\n",
        "      - It should have 2 hidden layers\n",
        "          - How many neurons do you think each layer should include? Why?\n",
        "          - What activation function(s) do you want to use in each layer?\n",
        "      - It should use MSE as its loss function\n",
        "      - The final output layer should be a single neuron, and should use either a ReLU or linear activation function\n",
        "  3. Train your model and evaluate its performance between the training and validation samples\n",
        "  4. Evaluate your model against the holdout testing dataset"
      ]
    },
    {
      "cell_type": "code",
      "execution_count": null,
      "id": "c20e7836-cafe-4556-8bb5-54d36929b82d",
      "metadata": {
        "id": "c20e7836-cafe-4556-8bb5-54d36929b82d",
        "colab": {
          "base_uri": "https://localhost:8080/",
          "height": 504
        },
        "outputId": "46f77dd0-aa0e-4ff1-ab69-181c1e13f478"
      },
      "outputs": [
        {
          "output_type": "execute_result",
          "data": {
            "text/plain": [
              "   region  price   year manufacturer                        model  condition  \\\n",
              "0  auburn  15000 2013.0         ford                    f-150 xlt  excellent   \n",
              "1  auburn  27990 2012.0          gmc  sierra 2500 hd extended cab       good   \n",
              "2  auburn  34590 2016.0    chevrolet        silverado 1500 double       good   \n",
              "3  auburn  35000 2019.0       toyota                       tacoma  excellent   \n",
              "4  auburn  29990 2016.0    chevrolet        colorado extended cab       good   \n",
              "\n",
              "     cylinders fuel  odometer title_status transmission drive       size  \\\n",
              "0  6 cylinders  gas  128000.0        clean    automatic   rwd  full-size   \n",
              "1  8 cylinders  gas   68696.0        clean        other   4wd        NaN   \n",
              "2  6 cylinders  gas   29499.0        clean        other   4wd        NaN   \n",
              "3  6 cylinders  gas   43000.0        clean    automatic   4wd        NaN   \n",
              "4  6 cylinders  gas   17302.0        clean        other   4wd        NaN   \n",
              "\n",
              "     type paint_color                                        description  \\\n",
              "0   truck       black  2013 F-150 XLT V6 4 Door. Good condition. Leve...   \n",
              "1  pickup       black  Carvana is the safer way to buy a car During t...   \n",
              "2  pickup      silver  Carvana is the safer way to buy a car During t...   \n",
              "3   truck        grey  Selling my 2019 Toyota Tacoma TRD Off Road Dou...   \n",
              "4  pickup         red  Carvana is the safer way to buy a car During t...   \n",
              "\n",
              "  state  lat  long              posting_date  \n",
              "0    al 32.6 -85.5  2021-05-03T14:02:03-0500  \n",
              "1    al 32.6 -85.5  2021-05-03T13:41:25-0500  \n",
              "2    al 32.6 -85.5  2021-05-03T12:41:33-0500  \n",
              "3    al 32.6 -85.4  2021-05-03T12:12:59-0500  \n",
              "4    al 32.6 -85.5  2021-05-03T11:31:14-0500  "
            ],
            "text/html": [
              "\n",
              "  <div id=\"df-d3ef434d-c982-4b9f-864e-d5c7c3e93d05\" class=\"colab-df-container\">\n",
              "    <div>\n",
              "<style scoped>\n",
              "    .dataframe tbody tr th:only-of-type {\n",
              "        vertical-align: middle;\n",
              "    }\n",
              "\n",
              "    .dataframe tbody tr th {\n",
              "        vertical-align: top;\n",
              "    }\n",
              "\n",
              "    .dataframe thead th {\n",
              "        text-align: right;\n",
              "    }\n",
              "</style>\n",
              "<table border=\"1\" class=\"dataframe\">\n",
              "  <thead>\n",
              "    <tr style=\"text-align: right;\">\n",
              "      <th></th>\n",
              "      <th>region</th>\n",
              "      <th>price</th>\n",
              "      <th>year</th>\n",
              "      <th>manufacturer</th>\n",
              "      <th>model</th>\n",
              "      <th>condition</th>\n",
              "      <th>cylinders</th>\n",
              "      <th>fuel</th>\n",
              "      <th>odometer</th>\n",
              "      <th>title_status</th>\n",
              "      <th>transmission</th>\n",
              "      <th>drive</th>\n",
              "      <th>size</th>\n",
              "      <th>type</th>\n",
              "      <th>paint_color</th>\n",
              "      <th>description</th>\n",
              "      <th>state</th>\n",
              "      <th>lat</th>\n",
              "      <th>long</th>\n",
              "      <th>posting_date</th>\n",
              "    </tr>\n",
              "  </thead>\n",
              "  <tbody>\n",
              "    <tr>\n",
              "      <th>0</th>\n",
              "      <td>auburn</td>\n",
              "      <td>15000</td>\n",
              "      <td>2013.0</td>\n",
              "      <td>ford</td>\n",
              "      <td>f-150 xlt</td>\n",
              "      <td>excellent</td>\n",
              "      <td>6 cylinders</td>\n",
              "      <td>gas</td>\n",
              "      <td>128000.0</td>\n",
              "      <td>clean</td>\n",
              "      <td>automatic</td>\n",
              "      <td>rwd</td>\n",
              "      <td>full-size</td>\n",
              "      <td>truck</td>\n",
              "      <td>black</td>\n",
              "      <td>2013 F-150 XLT V6 4 Door. Good condition. Leve...</td>\n",
              "      <td>al</td>\n",
              "      <td>32.6</td>\n",
              "      <td>-85.5</td>\n",
              "      <td>2021-05-03T14:02:03-0500</td>\n",
              "    </tr>\n",
              "    <tr>\n",
              "      <th>1</th>\n",
              "      <td>auburn</td>\n",
              "      <td>27990</td>\n",
              "      <td>2012.0</td>\n",
              "      <td>gmc</td>\n",
              "      <td>sierra 2500 hd extended cab</td>\n",
              "      <td>good</td>\n",
              "      <td>8 cylinders</td>\n",
              "      <td>gas</td>\n",
              "      <td>68696.0</td>\n",
              "      <td>clean</td>\n",
              "      <td>other</td>\n",
              "      <td>4wd</td>\n",
              "      <td>NaN</td>\n",
              "      <td>pickup</td>\n",
              "      <td>black</td>\n",
              "      <td>Carvana is the safer way to buy a car During t...</td>\n",
              "      <td>al</td>\n",
              "      <td>32.6</td>\n",
              "      <td>-85.5</td>\n",
              "      <td>2021-05-03T13:41:25-0500</td>\n",
              "    </tr>\n",
              "    <tr>\n",
              "      <th>2</th>\n",
              "      <td>auburn</td>\n",
              "      <td>34590</td>\n",
              "      <td>2016.0</td>\n",
              "      <td>chevrolet</td>\n",
              "      <td>silverado 1500 double</td>\n",
              "      <td>good</td>\n",
              "      <td>6 cylinders</td>\n",
              "      <td>gas</td>\n",
              "      <td>29499.0</td>\n",
              "      <td>clean</td>\n",
              "      <td>other</td>\n",
              "      <td>4wd</td>\n",
              "      <td>NaN</td>\n",
              "      <td>pickup</td>\n",
              "      <td>silver</td>\n",
              "      <td>Carvana is the safer way to buy a car During t...</td>\n",
              "      <td>al</td>\n",
              "      <td>32.6</td>\n",
              "      <td>-85.5</td>\n",
              "      <td>2021-05-03T12:41:33-0500</td>\n",
              "    </tr>\n",
              "    <tr>\n",
              "      <th>3</th>\n",
              "      <td>auburn</td>\n",
              "      <td>35000</td>\n",
              "      <td>2019.0</td>\n",
              "      <td>toyota</td>\n",
              "      <td>tacoma</td>\n",
              "      <td>excellent</td>\n",
              "      <td>6 cylinders</td>\n",
              "      <td>gas</td>\n",
              "      <td>43000.0</td>\n",
              "      <td>clean</td>\n",
              "      <td>automatic</td>\n",
              "      <td>4wd</td>\n",
              "      <td>NaN</td>\n",
              "      <td>truck</td>\n",
              "      <td>grey</td>\n",
              "      <td>Selling my 2019 Toyota Tacoma TRD Off Road Dou...</td>\n",
              "      <td>al</td>\n",
              "      <td>32.6</td>\n",
              "      <td>-85.4</td>\n",
              "      <td>2021-05-03T12:12:59-0500</td>\n",
              "    </tr>\n",
              "    <tr>\n",
              "      <th>4</th>\n",
              "      <td>auburn</td>\n",
              "      <td>29990</td>\n",
              "      <td>2016.0</td>\n",
              "      <td>chevrolet</td>\n",
              "      <td>colorado extended cab</td>\n",
              "      <td>good</td>\n",
              "      <td>6 cylinders</td>\n",
              "      <td>gas</td>\n",
              "      <td>17302.0</td>\n",
              "      <td>clean</td>\n",
              "      <td>other</td>\n",
              "      <td>4wd</td>\n",
              "      <td>NaN</td>\n",
              "      <td>pickup</td>\n",
              "      <td>red</td>\n",
              "      <td>Carvana is the safer way to buy a car During t...</td>\n",
              "      <td>al</td>\n",
              "      <td>32.6</td>\n",
              "      <td>-85.5</td>\n",
              "      <td>2021-05-03T11:31:14-0500</td>\n",
              "    </tr>\n",
              "  </tbody>\n",
              "</table>\n",
              "</div>\n",
              "    <div class=\"colab-df-buttons\">\n",
              "\n",
              "  <div class=\"colab-df-container\">\n",
              "    <button class=\"colab-df-convert\" onclick=\"convertToInteractive('df-d3ef434d-c982-4b9f-864e-d5c7c3e93d05')\"\n",
              "            title=\"Convert this dataframe to an interactive table.\"\n",
              "            style=\"display:none;\">\n",
              "\n",
              "  <svg xmlns=\"http://www.w3.org/2000/svg\" height=\"24px\" viewBox=\"0 -960 960 960\">\n",
              "    <path d=\"M120-120v-720h720v720H120Zm60-500h600v-160H180v160Zm220 220h160v-160H400v160Zm0 220h160v-160H400v160ZM180-400h160v-160H180v160Zm440 0h160v-160H620v160ZM180-180h160v-160H180v160Zm440 0h160v-160H620v160Z\"/>\n",
              "  </svg>\n",
              "    </button>\n",
              "\n",
              "  <style>\n",
              "    .colab-df-container {\n",
              "      display:flex;\n",
              "      gap: 12px;\n",
              "    }\n",
              "\n",
              "    .colab-df-convert {\n",
              "      background-color: #E8F0FE;\n",
              "      border: none;\n",
              "      border-radius: 50%;\n",
              "      cursor: pointer;\n",
              "      display: none;\n",
              "      fill: #1967D2;\n",
              "      height: 32px;\n",
              "      padding: 0 0 0 0;\n",
              "      width: 32px;\n",
              "    }\n",
              "\n",
              "    .colab-df-convert:hover {\n",
              "      background-color: #E2EBFA;\n",
              "      box-shadow: 0px 1px 2px rgba(60, 64, 67, 0.3), 0px 1px 3px 1px rgba(60, 64, 67, 0.15);\n",
              "      fill: #174EA6;\n",
              "    }\n",
              "\n",
              "    .colab-df-buttons div {\n",
              "      margin-bottom: 4px;\n",
              "    }\n",
              "\n",
              "    [theme=dark] .colab-df-convert {\n",
              "      background-color: #3B4455;\n",
              "      fill: #D2E3FC;\n",
              "    }\n",
              "\n",
              "    [theme=dark] .colab-df-convert:hover {\n",
              "      background-color: #434B5C;\n",
              "      box-shadow: 0px 1px 3px 1px rgba(0, 0, 0, 0.15);\n",
              "      filter: drop-shadow(0px 1px 2px rgba(0, 0, 0, 0.3));\n",
              "      fill: #FFFFFF;\n",
              "    }\n",
              "  </style>\n",
              "\n",
              "    <script>\n",
              "      const buttonEl =\n",
              "        document.querySelector('#df-d3ef434d-c982-4b9f-864e-d5c7c3e93d05 button.colab-df-convert');\n",
              "      buttonEl.style.display =\n",
              "        google.colab.kernel.accessAllowed ? 'block' : 'none';\n",
              "\n",
              "      async function convertToInteractive(key) {\n",
              "        const element = document.querySelector('#df-d3ef434d-c982-4b9f-864e-d5c7c3e93d05');\n",
              "        const dataTable =\n",
              "          await google.colab.kernel.invokeFunction('convertToInteractive',\n",
              "                                                    [key], {});\n",
              "        if (!dataTable) return;\n",
              "\n",
              "        const docLinkHtml = 'Like what you see? Visit the ' +\n",
              "          '<a target=\"_blank\" href=https://colab.research.google.com/notebooks/data_table.ipynb>data table notebook</a>'\n",
              "          + ' to learn more about interactive tables.';\n",
              "        element.innerHTML = '';\n",
              "        dataTable['output_type'] = 'display_data';\n",
              "        await google.colab.output.renderOutput(dataTable, element);\n",
              "        const docLink = document.createElement('div');\n",
              "        docLink.innerHTML = docLinkHtml;\n",
              "        element.appendChild(docLink);\n",
              "      }\n",
              "    </script>\n",
              "  </div>\n",
              "\n",
              "\n",
              "<div id=\"df-dab8a3da-f8e6-4fc8-867f-86775384d202\">\n",
              "  <button class=\"colab-df-quickchart\" onclick=\"quickchart('df-dab8a3da-f8e6-4fc8-867f-86775384d202')\"\n",
              "            title=\"Suggest charts.\"\n",
              "            style=\"display:none;\">\n",
              "\n",
              "<svg xmlns=\"http://www.w3.org/2000/svg\" height=\"24px\"viewBox=\"0 0 24 24\"\n",
              "     width=\"24px\">\n",
              "    <g>\n",
              "        <path d=\"M19 3H5c-1.1 0-2 .9-2 2v14c0 1.1.9 2 2 2h14c1.1 0 2-.9 2-2V5c0-1.1-.9-2-2-2zM9 17H7v-7h2v7zm4 0h-2V7h2v10zm4 0h-2v-4h2v4z\"/>\n",
              "    </g>\n",
              "</svg>\n",
              "  </button>\n",
              "\n",
              "<style>\n",
              "  .colab-df-quickchart {\n",
              "      --bg-color: #E8F0FE;\n",
              "      --fill-color: #1967D2;\n",
              "      --hover-bg-color: #E2EBFA;\n",
              "      --hover-fill-color: #174EA6;\n",
              "      --disabled-fill-color: #AAA;\n",
              "      --disabled-bg-color: #DDD;\n",
              "  }\n",
              "\n",
              "  [theme=dark] .colab-df-quickchart {\n",
              "      --bg-color: #3B4455;\n",
              "      --fill-color: #D2E3FC;\n",
              "      --hover-bg-color: #434B5C;\n",
              "      --hover-fill-color: #FFFFFF;\n",
              "      --disabled-bg-color: #3B4455;\n",
              "      --disabled-fill-color: #666;\n",
              "  }\n",
              "\n",
              "  .colab-df-quickchart {\n",
              "    background-color: var(--bg-color);\n",
              "    border: none;\n",
              "    border-radius: 50%;\n",
              "    cursor: pointer;\n",
              "    display: none;\n",
              "    fill: var(--fill-color);\n",
              "    height: 32px;\n",
              "    padding: 0;\n",
              "    width: 32px;\n",
              "  }\n",
              "\n",
              "  .colab-df-quickchart:hover {\n",
              "    background-color: var(--hover-bg-color);\n",
              "    box-shadow: 0 1px 2px rgba(60, 64, 67, 0.3), 0 1px 3px 1px rgba(60, 64, 67, 0.15);\n",
              "    fill: var(--button-hover-fill-color);\n",
              "  }\n",
              "\n",
              "  .colab-df-quickchart-complete:disabled,\n",
              "  .colab-df-quickchart-complete:disabled:hover {\n",
              "    background-color: var(--disabled-bg-color);\n",
              "    fill: var(--disabled-fill-color);\n",
              "    box-shadow: none;\n",
              "  }\n",
              "\n",
              "  .colab-df-spinner {\n",
              "    border: 2px solid var(--fill-color);\n",
              "    border-color: transparent;\n",
              "    border-bottom-color: var(--fill-color);\n",
              "    animation:\n",
              "      spin 1s steps(1) infinite;\n",
              "  }\n",
              "\n",
              "  @keyframes spin {\n",
              "    0% {\n",
              "      border-color: transparent;\n",
              "      border-bottom-color: var(--fill-color);\n",
              "      border-left-color: var(--fill-color);\n",
              "    }\n",
              "    20% {\n",
              "      border-color: transparent;\n",
              "      border-left-color: var(--fill-color);\n",
              "      border-top-color: var(--fill-color);\n",
              "    }\n",
              "    30% {\n",
              "      border-color: transparent;\n",
              "      border-left-color: var(--fill-color);\n",
              "      border-top-color: var(--fill-color);\n",
              "      border-right-color: var(--fill-color);\n",
              "    }\n",
              "    40% {\n",
              "      border-color: transparent;\n",
              "      border-right-color: var(--fill-color);\n",
              "      border-top-color: var(--fill-color);\n",
              "    }\n",
              "    60% {\n",
              "      border-color: transparent;\n",
              "      border-right-color: var(--fill-color);\n",
              "    }\n",
              "    80% {\n",
              "      border-color: transparent;\n",
              "      border-right-color: var(--fill-color);\n",
              "      border-bottom-color: var(--fill-color);\n",
              "    }\n",
              "    90% {\n",
              "      border-color: transparent;\n",
              "      border-bottom-color: var(--fill-color);\n",
              "    }\n",
              "  }\n",
              "</style>\n",
              "\n",
              "  <script>\n",
              "    async function quickchart(key) {\n",
              "      const quickchartButtonEl =\n",
              "        document.querySelector('#' + key + ' button');\n",
              "      quickchartButtonEl.disabled = true;  // To prevent multiple clicks.\n",
              "      quickchartButtonEl.classList.add('colab-df-spinner');\n",
              "      try {\n",
              "        const charts = await google.colab.kernel.invokeFunction(\n",
              "            'suggestCharts', [key], {});\n",
              "      } catch (error) {\n",
              "        console.error('Error during call to suggestCharts:', error);\n",
              "      }\n",
              "      quickchartButtonEl.classList.remove('colab-df-spinner');\n",
              "      quickchartButtonEl.classList.add('colab-df-quickchart-complete');\n",
              "    }\n",
              "    (() => {\n",
              "      let quickchartButtonEl =\n",
              "        document.querySelector('#df-dab8a3da-f8e6-4fc8-867f-86775384d202 button');\n",
              "      quickchartButtonEl.style.display =\n",
              "        google.colab.kernel.accessAllowed ? 'block' : 'none';\n",
              "    })();\n",
              "  </script>\n",
              "</div>\n",
              "    </div>\n",
              "  </div>\n"
            ]
          },
          "metadata": {},
          "execution_count": 16
        }
      ],
      "source": [
        "data = pd.read_csv(\"https://cdn.c18l.org/vehicles_lab.csv\")\n",
        "data.head()"
      ]
    },
    {
      "cell_type": "code",
      "source": [
        "#activation function - I think acts as the starting point and function to follow, kind of changes shape of data, relu - makes most sense when their should never be a negative value\n",
        "#softmax? dont know tbh\n",
        "#linear is linear\n",
        "#neural network kinda looks like a input - hidden layers (general term for internal maths of the model where it spits an output fr) - output"
      ],
      "metadata": {
        "id": "XP7rSEtMHtuC"
      },
      "id": "XP7rSEtMHtuC",
      "execution_count": null,
      "outputs": []
    },
    {
      "cell_type": "code",
      "source": [
        "data['posting_year'] = data['posting_date'].str.extract(r'^([0-9][0-9][0-9][0-9])')\n",
        "data['posting_year'].describe()"
      ],
      "metadata": {
        "colab": {
          "base_uri": "https://localhost:8080/"
        },
        "id": "1gKDkdl0KDxt",
        "outputId": "8a2cd933-4043-4613-a225-1f3835a42bba"
      },
      "id": "1gKDkdl0KDxt",
      "execution_count": null,
      "outputs": [
        {
          "output_type": "execute_result",
          "data": {
            "text/plain": [
              "count     192656\n",
              "unique         1\n",
              "top         2021\n",
              "freq      192656\n",
              "Name: posting_year, dtype: object"
            ]
          },
          "metadata": {},
          "execution_count": 19
        }
      ]
    },
    {
      "cell_type": "code",
      "source": [
        "data['car_age'] = data['posting_year'].astype(int) - data['year']\n",
        "data['car_age'].describe()"
      ],
      "metadata": {
        "colab": {
          "base_uri": "https://localhost:8080/"
        },
        "id": "xnr7ygsFMUpK",
        "outputId": "fec14386-ca6b-46b2-8d3d-8c1656f07279"
      },
      "id": "xnr7ygsFMUpK",
      "execution_count": null,
      "outputs": [
        {
          "output_type": "execute_result",
          "data": {
            "text/plain": [
              "count   192656.0\n",
              "mean        10.5\n",
              "std          9.5\n",
              "min         -1.0\n",
              "25%          5.0\n",
              "50%          8.0\n",
              "75%         14.0\n",
              "max        121.0\n",
              "Name: car_age, dtype: float64"
            ]
          },
          "metadata": {},
          "execution_count": 21
        }
      ]
    },
    {
      "cell_type": "code",
      "source": [
        "data['homecars'] = \"toledo\" in data['region']\n",
        "data['homecars']\n",
        "data.loc['homecars'] = 'TRUE'\n"
      ],
      "metadata": {
        "colab": {
          "base_uri": "https://localhost:8080/",
          "height": 142
        },
        "id": "cIWwGzP6OA8l",
        "outputId": "abc7a47a-fc79-4df3-98ae-443deca28c66"
      },
      "id": "cIWwGzP6OA8l",
      "execution_count": null,
      "outputs": [
        {
          "output_type": "error",
          "ename": "SyntaxError",
          "evalue": "ignored",
          "traceback": [
            "\u001b[0;36m  File \u001b[0;32m\"<ipython-input-30-bcb373ba6728>\"\u001b[0;36m, line \u001b[0;32m3\u001b[0m\n\u001b[0;31m    print(data.loc['homecars'] = 'TRUE')\u001b[0m\n\u001b[0m          ^\u001b[0m\n\u001b[0;31mSyntaxError\u001b[0m\u001b[0;31m:\u001b[0m expression cannot contain assignment, perhaps you meant \"==\"?\n"
          ]
        }
      ]
    },
    {
      "cell_type": "code",
      "source": [
        "inputs = {\n",
        "    'car_age':\n",
        "      tf.keras.layers.Input(\n",
        "        shape=(1,),\n",
        "        dtype=tf.float32,\n",
        "        name='car_age',),\n",
        "    'odometer':\n",
        "      tf.keras.layers.Input(\n",
        "              shape=(1,),\n",
        "              dtype=tf.float32,\n",
        "              name='odometer',)\n",
        "\n",
        "}"
      ],
      "metadata": {
        "id": "dWUtIWy6Rf7Q"
      },
      "id": "dWUtIWy6Rf7Q",
      "execution_count": null,
      "outputs": []
    },
    {
      "cell_type": "code",
      "source": [
        "input_layer = tf.keras.layers.Concatenate()([\n",
        "    inputs.get('car_age'),\n",
        "    inputs.get('odometer')\n",
        "])"
      ],
      "metadata": {
        "id": "b_CsnB7tSU2t"
      },
      "id": "b_CsnB7tSU2t",
      "execution_count": null,
      "outputs": []
    },
    {
      "cell_type": "code",
      "source": [
        "dense_layer = tf.keras.layers.Dense(\n",
        "    units=27,\n",
        "    activation='relu'\n",
        "\n",
        ")(input_layer)"
      ],
      "metadata": {
        "id": "viNFI_6VSKI4"
      },
      "id": "viNFI_6VSKI4",
      "execution_count": null,
      "outputs": []
    },
    {
      "cell_type": "code",
      "source": [
        "dense_layer = tf.keras.layers.Dense(\n",
        "    units=13,\n",
        "    activation='relu'\n",
        ")(dense_layer)"
      ],
      "metadata": {
        "id": "jkT9_q_6STUb"
      },
      "id": "jkT9_q_6STUb",
      "execution_count": null,
      "outputs": []
    },
    {
      "cell_type": "code",
      "source": [
        "output_layer = tf.keras.layers.Dense(\n",
        "    units=1,\n",
        "    activation='relu'\n",
        ")(dense_layer)"
      ],
      "metadata": {
        "id": "OpWNp_V3S-Q2"
      },
      "id": "OpWNp_V3S-Q2",
      "execution_count": null,
      "outputs": []
    },
    {
      "cell_type": "code",
      "source": [
        "outputs = {'dense_outputs':output_layer}\n",
        "\n",
        "dnn_model = tf.keras.Model(inputs=inputs, outputs=outputs)"
      ],
      "metadata": {
        "id": "1DHu76q7TJ6G"
      },
      "id": "1DHu76q7TJ6G",
      "execution_count": null,
      "outputs": []
    }
  ],
  "metadata": {
    "kernelspec": {
      "display_name": "Python 3 (ipykernel)",
      "language": "python",
      "name": "python3"
    },
    "language_info": {
      "codemirror_mode": {
        "name": "ipython",
        "version": 3
      },
      "file_extension": ".py",
      "mimetype": "text/x-python",
      "name": "python",
      "nbconvert_exporter": "python",
      "pygments_lexer": "ipython3",
      "version": "3.8.10"
    },
    "colab": {
      "provenance": [],
      "include_colab_link": true
    }
  },
  "nbformat": 4,
  "nbformat_minor": 5
}